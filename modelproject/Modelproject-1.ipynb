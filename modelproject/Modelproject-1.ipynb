{
 "cells": [
  {
   "cell_type": "markdown",
   "metadata": {},
   "source": [
    "# Model project: Cournot competition"
   ]
  },
  {
   "cell_type": "markdown",
   "metadata": {},
   "source": [
    "In the following project, we searh to model how two competing firms determine the optimal amount of a homogenous good to produce in Cournot competition. "
   ]
  },
  {
   "cell_type": "markdown",
   "metadata": {},
   "source": [
    "We are assuming the following points throughout the assignment:\n",
    "- There are two firms (1 and 2), who produce the same good (homogenous) (in the extension, we observe three firms)\n",
    "- No collusion\n",
    "- The two firms simultaneously choose the quaintity to produce ($q_1$ and $q_2$).\n",
    "- The total amount produced is $Q = q_1 + q_2$\n",
    "- The market price is decreasing in the total quantity: $P(Q)=a-Q$\n",
    "- Both firms have the same marginal cost $c$, where $0 \\leq c<a$"
   ]
  },
  {
   "cell_type": "code",
   "execution_count": 20,
   "metadata": {},
   "outputs": [],
   "source": [
    "import numpy as np\n",
    "from numpy import array\n",
    "\n",
    "from scipy import linalg\n",
    "from scipy import optimize\n",
    "from scipy import interpolate\n",
    "from scipy import optimize,arange\n",
    "import scipy as sp\n",
    "\n",
    "import ipywidgets as widgets\n",
    "import sympy as sm\n",
    "\n",
    "import matplotlib.pyplot as plt\n",
    "%matplotlib inline"
   ]
  },
  {
   "cell_type": "markdown",
   "metadata": {},
   "source": [
    "# Introduction to the economic model"
   ]
  },
  {
   "cell_type": "markdown",
   "metadata": {},
   "source": [
    "We look for a Nash Equilibrium, where both firms choose their best response, as a reaction function to the other firms actions. \n",
    "\n",
    "The profit functions for the respective firms are:\n",
    "\n",
    "Profit for firm 1: $\\pi_1(q_1,q_2) = q_1(P(q_1+q_2)  - c) $\n",
    "\n",
    "Profit for firm 2: $\\pi_2(q_1,q_2) = q_2(P(q_1+q_2) - c)$\n",
    "\n",
    "The price function and the marginal cost are included, and we can thereby rewrite:\n",
    "\n",
    "$\\pi_1(q_1,q_2) = (a - q_1 - q_2 - c) * q_1$\n",
    "\n",
    "$\\pi_2(q_1,q_2) = (a - q_1 - q_2 - c) * q_2$"
   ]
  },
  {
   "cell_type": "markdown",
   "metadata": {},
   "source": [
    "Since both firms want to maximize profit, we calculate the best response function, as the first order condition of the profit functions, where we solve for the quantity. \n",
    "\n",
    "### $\\frac{\\partial \\pi_1}{\\partial q_1} = 0$ <=> $ q_1(q_2) = \\frac{a-c-q_2}{2}$\n",
    "### $\\frac{\\partial \\pi_2}{\\partial q_2} = 0$ <=> $ q_2(q_1) = \\frac{a-c-q_1}{2}$"
   ]
  },
  {
   "cell_type": "markdown",
   "metadata": {},
   "source": [
    "Given symmetry, we can now solve for the equilibirum quantities: \n",
    "\n",
    "### $q_1^* = \\frac{a-c-\\frac{(a-c-q_1^*)}{2}}{2} <=> q_1^* = \\frac{a-c}{3} = q_2^*$\n",
    "\n"
   ]
  },
  {
   "cell_type": "markdown",
   "metadata": {},
   "source": [
    "We firstly define the base of the model, which consists of the inverse demand function, the cost function, the profit function for firm 1 and 2, respectively. "
   ]
  },
  {
   "cell_type": "code",
   "execution_count": 21,
   "metadata": {},
   "outputs": [],
   "source": [
    "def p(q1,q2,a):\n",
    "    demand = a - q1 - q2\n",
    "    return demand\n",
    "\n",
    "def cost_func(q,c):\n",
    "    cost = q * c\n",
    "    return cost\n",
    "\n",
    "#Profit function for firm 1\n",
    "def pi_1(q1,q2,a,c):\n",
    "    profit1 = p(q1,q2,a) * q1 - cost_func(q1,c)\n",
    "    return profit1\n",
    "\n",
    "#Profit function for firm 2\n",
    "def pi_2(q1,q2,a,c):\n",
    "    profit2 = p(q1,q2,a) * q2 - cost_func(q2,c)\n",
    "    return profit2"
   ]
  },
  {
   "cell_type": "markdown",
   "metadata": {},
   "source": [
    "The firms have symmetrical best response function, as seen before, given that they are solving the same optimization problem, with identical cost and demand. "
   ]
  },
  {
   "cell_type": "code",
   "execution_count": 22,
   "metadata": {},
   "outputs": [],
   "source": [
    "q0 = [0]\n",
    "\n",
    "def BR_f1(q2,a,c):\n",
    "    optimal_Q1 = optimize.minimize(lambda q0: -pi_1(q0,q2,a,c), q0).x[0]\n",
    "    return optimal_Q1\n",
    "\n",
    "def BR_f2(q1,a,c):\n",
    "    optimal_Q2 = optimize.minimize(lambda q0: -pi_2(q1,q0,a,c), q0).x[0]\n",
    "    return optimal_Q2"
   ]
  },
  {
   "cell_type": "code",
   "execution_count": 23,
   "metadata": {},
   "outputs": [],
   "source": [
    "def conditions(q,param):\n",
    "    u = q[0] - BR_f1(q[1],param[0],param[1])\n",
    "    y = q[1] - BR_f2(q[0],param[0],param[1])\n",
    "    return [u,y]"
   ]
  },
  {
   "cell_type": "code",
   "execution_count": 24,
   "metadata": {},
   "outputs": [],
   "source": [
    "q = [1,1]\n",
    "param = [11,2]"
   ]
  },
  {
   "cell_type": "code",
   "execution_count": 25,
   "metadata": {},
   "outputs": [
    {
     "name": "stdout",
     "output_type": "stream",
     "text": [
      "the optimal parameter values are: [3. 3.]\n"
     ]
    }
   ],
   "source": [
    "solver = optimize.fsolve(conditions,q, args = (param))\n",
    "print(f'the optimal parameter values are: {solver}')"
   ]
  },
  {
   "cell_type": "markdown",
   "metadata": {},
   "source": [
    "# Plotting"
   ]
  },
  {
   "cell_type": "code",
   "execution_count": 26,
   "metadata": {},
   "outputs": [
    {
     "data": {
      "text/plain": [
       "[<matplotlib.lines.Line2D at 0x1316fd3810>]"
      ]
     },
     "execution_count": 26,
     "metadata": {},
     "output_type": "execute_result"
    },
    {
     "data": {
      "image/png": "[encoded data removed]",
      "text/plain": [
       "<Figure size 432x288 with 1 Axes>"
      ]
     },
     "metadata": {
      "needs_background": "light"
     },
     "output_type": "display_data"
    }
   ],
   "source": [
    "#Production levels for firm 2:\n",
    "prod2 = np.arange(0,10,0.1)\n",
    "\n",
    "#production level firm 1:\n",
    "prod1 = []\n",
    "\n",
    "for q2 in prod2:\n",
    "    q1 = round(BR_f1(q2,10,0),3)\n",
    "    prod1.append(q1)\n",
    "\n",
    "plt.title(\"Best response for firm 1 (blue) and production level\\n for firm 2 (orange), given production level for firm 2\")\n",
    "plt.ylabel(\"$q_1$\")\n",
    "plt.xlabel(\"$q_2$\")\n",
    "plt.plot(prod2, prod1)\n",
    "plt.plot(prod2, prod2)"
   ]
  },
  {
   "cell_type": "code",
   "execution_count": 27,
   "metadata": {},
   "outputs": [],
   "source": [
    "costs = np.arange(0,5,0.1)\n",
    "prod1 = np.arange(0,5,0.1)\n",
    "prod2 = np.arange(0,5,0.1)\n",
    "\n",
    "x = []\n",
    "y = []\n",
    "\n",
    "for q2 in prod2:\n",
    "    q1 = round(BR_f1(q2,10,0),3)\n",
    "    x.append(q1)\n",
    "    \n",
    "for c, q1 in zip(costs,prod1):\n",
    "    q2 = round(BR_f2(q1,10,c),3)\n",
    "    y.append(q2)"
   ]
  },
  {
   "cell_type": "code",
   "execution_count": 28,
   "metadata": {},
   "outputs": [
    {
     "data": {
      "text/plain": [
       "[<matplotlib.lines.Line2D at 0x1316d01410>]"
      ]
     },
     "execution_count": 28,
     "metadata": {},
     "output_type": "execute_result"
    },
    {
     "data": {
      "image/png": "[encoded data removed]",
      "text/plain": [
       "<Figure size 432x288 with 1 Axes>"
      ]
     },
     "metadata": {
      "needs_background": "light"
     },
     "output_type": "display_data"
    }
   ],
   "source": [
    "plt.title(\"Best response for firms with marginal cost $c = 0$ (blue) and for firms\\nwith increasing marginal cost (orange) given produciton level of the other firm\")\n",
    "plt.ylabel(\"$BR(q_i)$\")\n",
    "plt.xlabel(\"$q_i$\")\n",
    "plt.plot(costs, x)\n",
    "plt.plot(costs, y)"
   ]
  },
  {
   "cell_type": "code",
   "execution_count": 10,
   "metadata": {},
   "outputs": [
    {
     "data": {
      "application/vnd.jupyter.widget-view+json": {
       "model_id": "f18dbdde3562461694f0fd4450d21905",
       "version_major": 2,
       "version_minor": 0
      },
      "text/plain": [
       "interactive(children=(FloatSlider(value=0.0, description='$c_1$', max=5.0), FloatSlider(value=0.0, description…"
      ]
     },
     "metadata": {},
     "output_type": "display_data"
    },
    {
     "data": {
      "text/plain": [
       "<function __main__.f(c1, c2)>"
      ]
     },
     "execution_count": 10,
     "metadata": {},
     "output_type": "execute_result"
    }
   ],
   "source": [
    "prod1 = np.arange(0,5,0.1)\n",
    "prod2 = np.arange(0,5,0.1)\n",
    "\n",
    "def f(c1,c2):\n",
    "\n",
    "    x = []\n",
    "    y = []\n",
    "\n",
    "    for q2 in prod2:\n",
    "        q1 = round(BR_f1(q2,10,c1),3)\n",
    "        x.append(q1)\n",
    "\n",
    "    for q1 in prod1:\n",
    "        q2 = round(BR_f2(q1,10,c2),3)\n",
    "        y.append(q2)\n",
    "\n",
    "    plt.title(\"Best response for firm 1 with marginal cost $c_1$ (blue) and best response for\\nfirm 2 with marginal cost $c_2$ (orange) given produciton level of the other firm\")\n",
    "    plt.ylabel(\"$BR(q_i)$\")\n",
    "    plt.xlabel(\"$q_i$\")\n",
    "    plt.plot(prod2,x)\n",
    "    plt.plot(prod1,y)\n",
    "\n",
    "widgets.interact(f,\n",
    "    c1 = widgets.FloatSlider(description=\"$c_1$\",min=0,max=5),\n",
    "    c2 = widgets.FloatSlider(description=\"$c_2$\",min=0,max=5),\n",
    " )"
   ]
  },
  {
   "cell_type": "markdown",
   "metadata": {},
   "source": [
    "In the illustration above it is evident that if the two firms have identical marginal cost, the best response functions are completely identical (laying on top of eachother, graphically). \n",
    "If firm 1 has a higher marginal cost, their best response function is lower than firm 2. "
   ]
  },
  {
   "cell_type": "markdown",
   "metadata": {},
   "source": [
    "# Extension: Three firms "
   ]
  },
  {
   "cell_type": "markdown",
   "metadata": {},
   "source": [
    "We want to understand what the optimal production levels are if a third firm is to enter. We focus on the case where firms are symmetric, with the same cost function. \n",
    "\n",
    "In the following we define the inverse demand function, cost function, and three profit functions. "
   ]
  },
  {
   "cell_type": "code",
   "execution_count": 11,
   "metadata": {},
   "outputs": [],
   "source": [
    "def p(q1,q2,q3,a):\n",
    "    demand = a - q1 - q2 - q3\n",
    "    return demand\n",
    "\n",
    "# We define the cost function:\n",
    "\n",
    "def cost(q,c):\n",
    "    cost = q * c\n",
    "    return cost\n",
    "\n",
    "\n",
    "def pi_f1(q1,q2,q3,a,c):\n",
    "    return p(q1,q2,q3,a) * q1 - cost(q1,c)\n",
    "\n",
    "def pi_f2(q1,q2,q3,a,c):\n",
    "    return p(q1,q2,q3,a) * q2 - cost(q2,c)\n",
    "\n",
    "def pi_f3(q1,q2,q3,a,c):\n",
    "    return p(q1,q2,q3,a) * q3 - cost(q3,c)"
   ]
  },
  {
   "cell_type": "markdown",
   "metadata": {},
   "source": [
    "We further define the tre reaction functions, where firm i will optimize relative to the two other firms. "
   ]
  },
  {
   "cell_type": "code",
   "execution_count": 12,
   "metadata": {},
   "outputs": [],
   "source": [
    "q0 = [0]\n",
    "\n",
    "def BR1(q2,q3,a,c):\n",
    "    optimal_q1 = optimize.minimize(lambda q0: -pi_f1(q0,q2,q3,a,c), q0).x[0]\n",
    "    return optimal_q1\n",
    "\n",
    "def BR2(q1,q3,a,c):\n",
    "    optimal_q2 = optimize.minimize(lambda q0: -pi_f2(q1,q0,q3,a,c), q0).x[0]\n",
    "    return optimal_q2\n",
    "\n",
    "def BR3(q1,q2,a,c):\n",
    "    optimal_q3 = optimize.minimize(lambda q0: -pi_f3(q1,q2,q0,a,c), q0).x[0]\n",
    "    return optimal_q3"
   ]
  },
  {
   "cell_type": "code",
   "execution_count": 13,
   "metadata": {},
   "outputs": [],
   "source": [
    "def con(q,param):\n",
    "    u = q[0] - BR1(q[1],q[2],param[0],param[1])\n",
    "    y = q[1] - BR2(q[0],q[2],param[0],param[1])\n",
    "    z = q[2] - BR3(q[0],q[1],param[0],param[1])\n",
    "    return [u,y,z]"
   ]
  },
  {
   "cell_type": "code",
   "execution_count": 14,
   "metadata": {},
   "outputs": [],
   "source": [
    "#initial values\n",
    "q = [1,1,1]\n",
    "\n",
    "# Vector with parameters [a,c]:\n",
    "param = [11,2]"
   ]
  },
  {
   "cell_type": "code",
   "execution_count": 15,
   "metadata": {},
   "outputs": [
    {
     "name": "stdout",
     "output_type": "stream",
     "text": [
      "optimal quantity: [2.24999997 2.25000001 2.25000001]\n"
     ]
    }
   ],
   "source": [
    "solver = optimize.fsolve(con,q, args = (param))\n",
    "print(f'optimal quantity: {solver}')"
   ]
  },
  {
   "cell_type": "markdown",
   "metadata": {},
   "source": [
    "Inclusion of an additional firm, reduces the optimal quantity, which as we saw before was 3 for both firms."
   ]
  },
  {
   "cell_type": "markdown",
   "metadata": {},
   "source": [
    "# Conclusion "
   ]
  },
  {
   "cell_type": "markdown",
   "metadata": {},
   "source": [
    "Two firms with identical demand functions and marginal cost, are symmetrical, and thereby set the same equilibrium quantities. We have learned that the marginal cost (when rising), has a negative effect on the best response functions and thereby breaks with the symmetry of the two firms. It is therefore evident that rising or lowering marginal cost has an effect on the equilibrium quantity. \n",
    "\n",
    "Int the extension, we see that when a third firm is to enter the competition, it also does have an effect on the equilibrium quantitiy. When a third firm enters, assuming symmetry, it is evident that the optimal production level falls - in this instance from 3 to 2.5 units. "
   ]
  }
 ],
 "metadata": {
  "kernelspec": {
   "display_name": "Python 3",
   "language": "python",
   "name": "python3"
  },
  "language_info": {
   "codemirror_mode": {
    "name": "ipython",
    "version": 3
   },
   "file_extension": ".py",
   "mimetype": "text/x-python",
   "name": "python",
   "nbconvert_exporter": "python",
   "pygments_lexer": "ipython3",
   "version": "3.7.4"
  }
 },
 "nbformat": 4,
 "nbformat_minor": 4
}
